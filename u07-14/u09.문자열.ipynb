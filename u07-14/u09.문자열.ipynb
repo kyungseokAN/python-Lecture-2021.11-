{
 "cells": [
  {
   "cell_type": "markdown",
   "metadata": {},
   "source": [
    "# Unit 9. 문자열"
   ]
  },
  {
   "cell_type": "code",
   "execution_count": 2,
   "metadata": {},
   "outputs": [
    {
     "name": "stdout",
     "output_type": "stream",
     "text": [
      "I'm a student. I'm a student. I'm a student.\n"
     ]
    }
   ],
   "source": [
    "s1 = \"I'm a student.\"\n",
    "s2 = 'I\\'m a student.'\n",
    "s3 = '''I'm a student.'''\n",
    "print(s1, s2, s3)"
   ]
  },
  {
   "cell_type": "code",
   "execution_count": 14,
   "metadata": {},
   "outputs": [
    {
     "name": "stdout",
     "output_type": "stream",
     "text": [
      "\n",
      "     안녕하세요\n",
      "     저는\n",
      "     \n"
     ]
    }
   ],
   "source": [
    "s4 = '''\n",
    "     안녕하세요\n",
    "     저는\n",
    "     '''\n",
    "print(s4)"
   ]
  },
  {
   "cell_type": "code",
   "execution_count": 10,
   "metadata": {},
   "outputs": [
    {
     "data": {
      "text/plain": [
       "'철수영희'"
      ]
     },
     "execution_count": 10,
     "metadata": {},
     "output_type": "execute_result"
    }
   ],
   "source": [
    "'철수'+'영희'"
   ]
  },
  {
   "cell_type": "code",
   "execution_count": 13,
   "metadata": {},
   "outputs": [
    {
     "name": "stdout",
     "output_type": "stream",
     "text": [
      "철수와영희는 제주도에 삽니다\n"
     ]
    }
   ],
   "source": [
    "name1, name2 = '철수', '영희'\n",
    "# 철수와 영희는 제주도에 삽니다.\n",
    "res = name1 + '와' + name2 +'는 제주도에 삽니다'\n",
    "print(res)"
   ]
  },
  {
   "cell_type": "code",
   "execution_count": 15,
   "metadata": {},
   "outputs": [
    {
     "name": "stdout",
     "output_type": "stream",
     "text": [
      "철수와 영희는 제주도에 삽니다\n"
     ]
    }
   ],
   "source": [
    "# Python 3.6 부터 f-string 사용 가능\n",
    "res2 = f'{name1}와 {name2}는 제주도에 삽니다'\n",
    "print(res2)"
   ]
  },
  {
   "cell_type": "code",
   "execution_count": null,
   "metadata": {},
   "outputs": [],
   "source": []
  }
 ],
 "metadata": {
  "interpreter": {
   "hash": "60e7f993bd80280a292cf727bcf540b52dc52f658ffaee01a928daf77ed7d70f"
  },
  "kernelspec": {
   "display_name": "Python 3.8.8 64-bit ('base': conda)",
   "language": "python",
   "name": "python3"
  },
  "language_info": {
   "codemirror_mode": {
    "name": "ipython",
    "version": 3
   },
   "file_extension": ".py",
   "mimetype": "text/x-python",
   "name": "python",
   "nbconvert_exporter": "python",
   "pygments_lexer": "ipython3",
   "version": "3.8.8"
  },
  "orig_nbformat": 4
 },
 "nbformat": 4,
 "nbformat_minor": 2
}
