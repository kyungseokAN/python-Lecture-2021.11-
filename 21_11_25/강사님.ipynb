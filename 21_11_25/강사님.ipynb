{
 "cells": [
  {
   "cell_type": "markdown",
   "metadata": {},
   "source": [
    "input()으로 사용자로부터 정수를 한 개 입력받아, 그 숫자를 숫자 크기만큼 반복해서 출력하는 파이썬 스크립트를 작성하세요. 이때 출력 앞에 공백을 한 칸 주어서, 입력과 출력이 구분되게 합니다.\n",
    "단, for 문을 사용하세요."
   ]
  },
  {
   "cell_type": "code",
   "execution_count": 1,
   "metadata": {},
   "outputs": [
    {
     "name": "stdout",
     "output_type": "stream",
     "text": [
      "입력한 숫자 5\n",
      "5\n",
      "5\n",
      "5\n",
      "5\n",
      "5\n"
     ]
    }
   ],
   "source": [
    "n = int(input())\n",
    "print('입력한 숫자', n)\n",
    "for i in range(n):\n",
    "    print(n)"
   ]
  },
  {
   "cell_type": "markdown",
   "metadata": {},
   "source": [
    "input()으로 사용자로부터 입력받은 정수를 계속 더해나가다가, 음수가 입력되면 중단하고 그 전까지 계산한 값을 출력하는 파이썬 스크립트를 작성하세요."
   ]
  },
  {
   "cell_type": "code",
   "execution_count": 2,
   "metadata": {},
   "outputs": [
    {
     "ename": "ValueError",
     "evalue": "invalid literal for int() with base 10: ''",
     "output_type": "error",
     "traceback": [
      "\u001b[1;31m---------------------------------------------------------------------------\u001b[0m",
      "\u001b[1;31mValueError\u001b[0m                                Traceback (most recent call last)",
      "\u001b[1;32m<ipython-input-2-e606856d9db9>\u001b[0m in \u001b[0;36m<module>\u001b[1;34m\u001b[0m\n\u001b[0;32m      1\u001b[0m \u001b[0msum_of_input\u001b[0m \u001b[1;33m=\u001b[0m \u001b[1;36m0\u001b[0m\u001b[1;33m\u001b[0m\u001b[1;33m\u001b[0m\u001b[0m\n\u001b[0;32m      2\u001b[0m \u001b[1;32mwhile\u001b[0m \u001b[1;32mTrue\u001b[0m\u001b[1;33m:\u001b[0m\u001b[1;33m\u001b[0m\u001b[1;33m\u001b[0m\u001b[0m\n\u001b[1;32m----> 3\u001b[1;33m     \u001b[0mn\u001b[0m \u001b[1;33m=\u001b[0m \u001b[0mint\u001b[0m\u001b[1;33m(\u001b[0m\u001b[0minput\u001b[0m\u001b[1;33m(\u001b[0m\u001b[1;33m)\u001b[0m\u001b[1;33m)\u001b[0m\u001b[1;33m\u001b[0m\u001b[1;33m\u001b[0m\u001b[0m\n\u001b[0m\u001b[0;32m      4\u001b[0m     \u001b[0mprint\u001b[0m\u001b[1;33m(\u001b[0m\u001b[0mn\u001b[0m\u001b[1;33m)\u001b[0m\u001b[1;33m\u001b[0m\u001b[1;33m\u001b[0m\u001b[0m\n\u001b[0;32m      5\u001b[0m     \u001b[1;32mif\u001b[0m \u001b[0mn\u001b[0m \u001b[1;33m<\u001b[0m \u001b[1;36m0\u001b[0m\u001b[1;33m:\u001b[0m\u001b[1;33m\u001b[0m\u001b[1;33m\u001b[0m\u001b[0m\n",
      "\u001b[1;31mValueError\u001b[0m: invalid literal for int() with base 10: ''"
     ]
    }
   ],
   "source": [
    "sum_of_input = 0\n",
    "while True:\n",
    "    n = int(input())\n",
    "    print(n)\n",
    "    if n < 0:\n",
    "        break;\n",
    "    sum_of_input += n\n",
    "print(sum_of_input)    "
   ]
  },
  {
   "cell_type": "markdown",
   "metadata": {},
   "source": [
    "복리 예금의 원금(P), 연이율(r), 기간(n)이 주어졌을 때, 원리금 Q는 아래 공식과 같다.\n",
    "Q=𝑃(1+𝑟)**𝑛\n",
    "이때 원리금을 계산하는 함수 compound_amount()를 작성하고,\n",
    "원금이 1,000,000원, 연이율이 2.5%, 기간이 3년일 때 원리금을 계산하세요."
   ]
  },
  {
   "cell_type": "code",
   "execution_count": null,
   "metadata": {},
   "outputs": [],
   "source": [
    "def compound_amount(p, r, n):\n",
    "    return p * (1 + r) ** n\n",
    "\n",
    "print(round(compound_amount(1000000, 0.025, 3), 2))"
   ]
  },
  {
   "cell_type": "markdown",
   "metadata": {},
   "source": [
    "정수 num을 매개변수로 받아 각 자리 숫자(digit)의 합을 계산하는 sumOfDigits() 함수를 작성하고, 예를 들어 검증해 보세요."
   ]
  },
  {
   "cell_type": "code",
   "execution_count": null,
   "metadata": {},
   "outputs": [],
   "source": [
    "def sumOfDigits(num):\n",
    "    s = str(num)\n",
    "    sum_of_digits = 0\n",
    "    for digit in list(s):\n",
    "        sum_of_digits += int(digit)\n",
    "    return sum_of_digits\n",
    "\n",
    "print(sumOfDigits(123456))"
   ]
  },
  {
   "cell_type": "markdown",
   "metadata": {},
   "source": [
    "1 과 자기 자신으로만 나누어 떨어지는 자연수를 소수(素數, prime number)라고 합니다.\n",
    "다음은 소수입니다.\n",
    "2, 3, 5, 7, 11, 13, 17, 19, 23, 29, ...\n",
    "이와 같은 방식으로 100 이하의 소수를 구하세요."
   ]
  },
  {
   "cell_type": "code",
   "execution_count": null,
   "metadata": {},
   "outputs": [],
   "source": [
    "def is_prime(n):\n",
    "    for i in range(2,n):\n",
    "        if n % i == 0:\n",
    "            return False\n",
    "    return True\n",
    "prime_numbers = [i for i in range(2, 201) if is_prime(i)]\n",
    "print(prime_numbers)"
   ]
  },
  {
   "cell_type": "markdown",
   "metadata": {},
   "source": [
    "100"
   ]
  },
  {
   "cell_type": "code",
   "execution_count": null,
   "metadata": {},
   "outputs": [],
   "source": [
    "numbers = list(range(2,101))\n",
    "for i in prime_numbers:\n",
    "    for k in range(2*i,101,i):\n",
    "        if k in numbers:\n",
    "            numbers.remove(k)\n",
    "print(numbers)"
   ]
  },
  {
   "cell_type": "markdown",
   "metadata": {},
   "source": [
    "사용자로부터 날짜를 나타내는 세 개의 숫자를 입력받습니다. 첫 번째 숫자는 연도를 나타내는 네 자리 숫자이고, 두 번째 숫자는 월을, 세 번째 숫자는 일을 나타냅니다.\n",
    "입력받은 날짜를 yyyy-mm-dd 형식으로 출력합니다. 연도를 네 자리 숫자로, 월을 두자리 숫자(01, 02, 03, ..., 12)로, 일을 두자리 숫자(01, 02, 03, ..., 31)로 나타냅니다.\n",
    "입력받은 날짜의 다음 날에 해당하는 날짜도 같은 형식으로 출력합니다. 단, 윤년은 무시하세요.(2월은 항상 28일까지 있다고 가정합니다)."
   ]
  },
  {
   "cell_type": "code",
   "execution_count": null,
   "metadata": {},
   "outputs": [],
   "source": [
    "month_day = {1:31,2:28,3:31,4:30,5:31,6:30,7:31,8:31,9:30,10:31,11:30,12:30}\n",
    "year, month, day = map(int, input('년 월 일').split())\n",
    "print(f'{year:04d}-{month:02d}-{day:02d}')\n",
    "\n",
    "new_day = day + 1\n",
    "new_month, new_year = month, year\n",
    "if new_day > month_day[month]:\n",
    "    new_day = 1\n",
    "    new_month = month + 1\n",
    "    if new_month > 12:\n",
    "        new_month = 1 \n",
    "        new_year = year + 1\n",
    "    \n",
    "print(f'{new_year:04d}-{new_month:02d}-{new_day:02d}')"
   ]
  },
  {
   "cell_type": "markdown",
   "metadata": {},
   "source": [
    "두 직각변(a, b)의 길이를 입력으로 받아 빗변(c)의 길이를 구하는 함수 hypotenuse()를 작성하세요. 출력은 소수점 셋째 자리까지 표시하세요."
   ]
  },
  {
   "cell_type": "code",
   "execution_count": null,
   "metadata": {},
   "outputs": [],
   "source": [
    "import math\n",
    "def hypotenuse(a, b):\n",
    "    return math.sqrt(a*a + b*b)\n",
    "\n",
    "print(round(hypotenuse(3,5),3))"
   ]
  },
  {
   "cell_type": "markdown",
   "metadata": {},
   "source": [
    "주사위를 두번 굴려서 합을 출력한다. 단, 10 이상이면 게임을 멈추고, 10 미만이면 주사위 게임을 계속하는 프로그램을 random 모듈과 while 을 사용하여 작성하세요."
   ]
  },
  {
   "cell_type": "code",
   "execution_count": null,
   "metadata": {},
   "outputs": [],
   "source": [
    "import random\n",
    "while True:\n",
    "    sum_2_dice = random.randint(1,6)\n",
    "    sum_2_dice += random.randint(1,6)\n",
    "    print(sum_2_dice)\n",
    "    if sum_2_dice >= 10:\n",
    "        break"
   ]
  },
  {
   "cell_type": "markdown",
   "metadata": {},
   "source": [
    "상근이가 맞춰 놓은 알람 시각을 입력으로 받아(시와 분) 창영이의 방법을 사용한다면, 이를 언제로 고쳐야 하는지 구하는 프로그램을 작성하세요."
   ]
  },
  {
   "cell_type": "code",
   "execution_count": null,
   "metadata": {},
   "outputs": [],
   "source": [
    "def early_alarm(hour, minute):\n",
    "    new_hour, new_min = hour, minute-45\n",
    "    if new_min < 0:\n",
    "        new_min = 60 + minute - 45\n",
    "        new_hour = hour - 1\n",
    "    return new_hour, new_min\n",
    "\n",
    "h, m = map(int, input('시 분').split())\n",
    "new_hour, new_min = early_alarm(h, m)\n",
    "print(f'{h:02d}:{m:02d} ==> {new_hour:02d}:{new_min:02d}')"
   ]
  },
  {
   "cell_type": "markdown",
   "metadata": {},
   "source": [
    "https://www.lipsum.com/ 사이트에 접속해서 본문의 내용을 lipsum.txt 파일에 저장하고, 이 파일을 읽어 단어의 개수를 세는 프로그램을 작성하세요.\n",
    "단, 읽은 단어는 소문자로 변환하고, 구둣점을 없앤 후 개수를 세고,\n",
    "출력은 총 단어수와 가장 많이 나온 순서대로 단어 10개와 그 단어의 빈도입니다."
   ]
  },
  {
   "cell_type": "code",
   "execution_count": null,
   "metadata": {},
   "outputs": [],
   "source": [
    "with open('lipsum.txt') as file:\n",
    "    lines = file.readlines()\n",
    "\n",
    "text = []\n",
    "for line in lines:\n",
    "    if line == '\\n':\n",
    "        continue\n",
    "    text += line.split()\n",
    "\n",
    "words = []\n",
    "for word in text:\n",
    "    word = word.strip(',.?\\'\\\"()').lower()\n",
    "    words.append(word)"
   ]
  },
  {
   "cell_type": "code",
   "execution_count": null,
   "metadata": {},
   "outputs": [],
   "source": [
    "word_dict = {}\n",
    "for word in words:\n",
    "    if word in word_dict.keys():\n",
    "        word_dict[word] += 1\n",
    "    else:\n",
    "        word_dict[word] = 1"
   ]
  },
  {
   "cell_type": "code",
   "execution_count": null,
   "metadata": {},
   "outputs": [],
   "source": [
    "word_dict"
   ]
  },
  {
   "cell_type": "code",
   "execution_count": null,
   "metadata": {},
   "outputs": [],
   "source": [
    "import operator\n",
    "\n",
    "sorted_word_dict = sorted(word_dict.items(), key=operator.itemgetter(1), \n",
    "                          reverse=True)\n",
    "sorted_word_dict[:10]"
   ]
  }
 ],
 "metadata": {
  "interpreter": {
   "hash": "60e7f993bd80280a292cf727bcf540b52dc52f658ffaee01a928daf77ed7d70f"
  },
  "kernelspec": {
   "display_name": "Python 3.8.8 64-bit ('base': conda)",
   "language": "python",
   "name": "python3"
  },
  "language_info": {
   "codemirror_mode": {
    "name": "ipython",
    "version": 3
   },
   "file_extension": ".py",
   "mimetype": "text/x-python",
   "name": "python",
   "nbconvert_exporter": "python",
   "pygments_lexer": "ipython3",
   "version": "3.8.8"
  },
  "orig_nbformat": 4
 },
 "nbformat": 4,
 "nbformat_minor": 2
}
