{
 "cells": [
  {
   "cell_type": "code",
   "execution_count": 17,
   "metadata": {},
   "outputs": [
    {
     "name": "stdout",
     "output_type": "stream",
     "text": [
      "13윤년이 아니다\n"
     ]
    }
   ],
   "source": [
    "a = int(input())    \n",
    "\n",
    "if a % 400 ==0:\n",
    "    print(f'{a}윤년')\n",
    "elif a % 100 ==0:\n",
    "    print(f'{a}윤년이 아니다')\n",
    "elif a % 4 ==0:\n",
    "    print(f'{a}윤년')\n",
    "else :\n",
    "    print(f'{a}윤년이 아니다')\n"
   ]
  },
  {
   "cell_type": "code",
   "execution_count": 68,
   "metadata": {},
   "outputs": [
    {
     "name": "stdout",
     "output_type": "stream",
     "text": [
      "당신은 만 30세 입니다\n"
     ]
    }
   ],
   "source": [
    "age_1, age_2, age_3 = map(int, input().split())\n",
    "to_Day_1, to_Day_2, to_Day_3 = 2021, 11, 20\n",
    "age = to_Day_1 - age_1\n",
    "if age_1 > to_Day_1 :\n",
    "    print(' 태어나기 전입니다')\n",
    "elif age_1 == to_Day_1 and age_2 > to_Day_2 :\n",
    "    print(' 태어나기 전입니다')\n",
    "elif age_1 == to_Day_1 and age_2 == to_Day_2 and age_3 > to_Day_3:\n",
    "    print(' 태어나기 전입니다')\n",
    "elif age_1 <= to_Day_1 :\n",
    "    if age_2 > to_Day_2 :\n",
    "         print(f'당신은 만 {age-1}세 입니다')\n",
    "    elif age_2 == to_Day_2 and age_3 > to_Day_3:\n",
    "        print(f'당신은 만 {age-1}세 입니다')\n",
    "    else :\n",
    "        print(f'당신은 만 {age}세 입니다')\n",
    "     \n"
   ]
  },
  {
   "cell_type": "code",
   "execution_count": 6,
   "metadata": {},
   "outputs": [
    {
     "name": "stdout",
     "output_type": "stream",
     "text": [
      "33 483 484\n"
     ]
    }
   ],
   "source": [
    "for a in range(999):\n",
    "    for b in range(999):\n",
    "        for c in range(999):\n",
    "            if a < b < c and a + b > c and a*a + b*b > c*c and a + b + c == 1000: \n",
    "               print(a, b, c)\n",
    "               break\n",
    "        if a < b < c and a + b > c and a*a + b*b > c*c and a + b + c == 1000: \n",
    "            break\n",
    "    if a < b < c and a + b > c and a*a + b*b > c*c and a + b + c == 1000: \n",
    "        break "
   ]
  },
  {
   "cell_type": "code",
   "execution_count": 7,
   "metadata": {},
   "outputs": [
    {
     "data": {
      "text/plain": [
       "True"
      ]
     },
     "execution_count": 7,
     "metadata": {},
     "output_type": "execute_result"
    }
   ],
   "source": [
    "a < b < c\n",
    "\n"
   ]
  },
  {
   "cell_type": "code",
   "execution_count": 9,
   "metadata": {},
   "outputs": [
    {
     "data": {
      "text/plain": [
       "True"
      ]
     },
     "execution_count": 9,
     "metadata": {},
     "output_type": "execute_result"
    }
   ],
   "source": [
    " a*a + b*b > c*c\n"
   ]
  },
  {
   "cell_type": "code",
   "execution_count": 10,
   "metadata": {},
   "outputs": [
    {
     "data": {
      "text/plain": [
       "1000"
      ]
     },
     "execution_count": 10,
     "metadata": {},
     "output_type": "execute_result"
    }
   ],
   "source": [
    "a + b + c"
   ]
  },
  {
   "cell_type": "code",
   "execution_count": null,
   "metadata": {},
   "outputs": [],
   "source": []
  }
 ],
 "metadata": {
  "interpreter": {
   "hash": "c81169c30fb96244cfba0db287a0d3fd5325268de070a7a6116eecd4596df902"
  },
  "kernelspec": {
   "display_name": "Python 3.8.8 64-bit ('base': conda)",
   "language": "python",
   "name": "python3"
  },
  "language_info": {
   "codemirror_mode": {
    "name": "ipython",
    "version": 3
   },
   "file_extension": ".py",
   "mimetype": "text/x-python",
   "name": "python",
   "nbconvert_exporter": "python",
   "pygments_lexer": "ipython3",
   "version": "3.8.8"
  },
  "orig_nbformat": 4
 },
 "nbformat": 4,
 "nbformat_minor": 2
}
