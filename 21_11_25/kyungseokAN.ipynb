{
 "cells": [
  {
   "cell_type": "code",
   "execution_count": 7,
   "metadata": {},
   "outputs": [
    {
     "name": "stdout",
     "output_type": "stream",
     "text": [
      "3 \n",
      "3 \n",
      "3 \n"
     ]
    }
   ],
   "source": [
    "# 11\n",
    "a = int(input())\n",
    "for i in range(a):\n",
    "    print(f'{a} ')\n"
   ]
  },
  {
   "cell_type": "code",
   "execution_count": 11,
   "metadata": {},
   "outputs": [
    {
     "name": "stdout",
     "output_type": "stream",
     "text": [
      "6\n"
     ]
    }
   ],
   "source": [
    "# 12\n",
    "a = 0\n",
    "b = 0\n",
    "while 1 :\n",
    "    a = int(input())\n",
    "    if a>=0:\n",
    "        b +=a\n",
    "    else :\n",
    "        break\n",
    "print(b)\n",
    "        \n"
   ]
  },
  {
   "cell_type": "code",
   "execution_count": 33,
   "metadata": {},
   "outputs": [
    {
     "name": "stdout",
     "output_type": "stream",
     "text": [
      "3074999.9999999995\n"
     ]
    }
   ],
   "source": [
    "# 13\n",
    "#P원금 r연이율 n기간\n",
    "Q = 0\n",
    "def compund_amount(P,r,n):\n",
    "    Q = P*((1+r)*n)\n",
    "    return Q\n",
    "print(compund_amount(1000000, 0.025, 3))\n",
    "\n"
   ]
  },
  {
   "cell_type": "code",
   "execution_count": 82,
   "metadata": {},
   "outputs": [
    {
     "name": "stdout",
     "output_type": "stream",
     "text": [
      "24\n"
     ]
    }
   ],
   "source": [
    "# 14\n",
    "num = input()\n",
    "def sumOfDigits(num):\n",
    "   return sum([int(i) for i in str(num)])\n",
    "print(sumOfDigits(num))\n"
   ]
  },
  {
   "cell_type": "code",
   "execution_count": 142,
   "metadata": {},
   "outputs": [
    {
     "name": "stdout",
     "output_type": "stream",
     "text": [
      "2 3 5 7 11 13 17 19 23 29 31 37 41 43 47 53 59 61 67 71 73 79 83 89 97 "
     ]
    }
   ],
   "source": [
    "# 15\n",
    "for i in range(101):\n",
    "    count = 0\n",
    "    for j in range(1, 101):\n",
    "        if i%j==0:\n",
    "            count += 1\n",
    "    if count == 2:\n",
    "        print(i,end = ' ')\n"
   ]
  },
  {
   "cell_type": "code",
   "execution_count": 5,
   "metadata": {},
   "outputs": [
    {
     "name": "stdout",
     "output_type": "stream",
     "text": [
      "1991-03-31\n",
      "1991-04-01\n"
     ]
    }
   ],
   "source": [
    "# 16\n",
    "from datetime import datetime, timedelta , date\n",
    "y, m, d = map(int, input().split())\n",
    "time1 = date(y,m,d)\n",
    "e = time1+timedelta(days=1)\n",
    "print(f'{time1}')\n",
    "print(f'{e}')\n",
    "\n"
   ]
  },
  {
   "cell_type": "code",
   "execution_count": 6,
   "metadata": {},
   "outputs": [
    {
     "name": "stdout",
     "output_type": "stream",
     "text": [
      "5.000\n"
     ]
    }
   ],
   "source": [
    "# 17\n",
    "import math\n",
    "a, b = map(int, input().split())\n",
    "def hypotenuse(a,b):\n",
    "    c = math.sqrt((a*a)+(b*b))\n",
    "    return c\n",
    "print(f'{hypotenuse(a,b):.3f}')\n",
    "\n",
    "\n",
    "\n"
   ]
  },
  {
   "cell_type": "code",
   "execution_count": 7,
   "metadata": {},
   "outputs": [
    {
     "name": "stdout",
     "output_type": "stream",
     "text": [
      "5\n",
      "8\n",
      "10\n"
     ]
    }
   ],
   "source": [
    "#18\n",
    "import random\n",
    "while 1 :\n",
    "    a = random.randint(1,7)\n",
    "    b = random.randint(1,7)\n",
    "    if (a+b) < 10 :\n",
    "        print(f'{(a+b)}')\n",
    "    else:\n",
    "        print(f'{(a+b)}')\n",
    "        break\n"
   ]
  },
  {
   "cell_type": "code",
   "execution_count": 8,
   "metadata": {},
   "outputs": [
    {
     "name": "stdout",
     "output_type": "stream",
     "text": [
      "10 30\n"
     ]
    }
   ],
   "source": [
    "# 19\n",
    "h, m = map(int,input().split())\n",
    "if h > 23 or m > 59:\n",
    "    print('잘못된 시간 입력')\n",
    "elif m > 44:\n",
    "    print(h, m-45)\n",
    "elif m<45 and h>0:\n",
    "    print(h-1,m+15)\n",
    "else:\n",
    "    print(23,m+15)\n"
   ]
  },
  {
   "cell_type": "code",
   "execution_count": null,
   "metadata": {},
   "outputs": [],
   "source": [
    "# 20"
   ]
  }
 ],
 "metadata": {
  "interpreter": {
   "hash": "60e7f993bd80280a292cf727bcf540b52dc52f658ffaee01a928daf77ed7d70f"
  },
  "kernelspec": {
   "display_name": "Python 3.8.8 64-bit ('base': conda)",
   "language": "python",
   "name": "python3"
  },
  "language_info": {
   "codemirror_mode": {
    "name": "ipython",
    "version": 3
   },
   "file_extension": ".py",
   "mimetype": "text/x-python",
   "name": "python",
   "nbconvert_exporter": "python",
   "pygments_lexer": "ipython3",
   "version": "3.8.8"
  },
  "orig_nbformat": 4
 },
 "nbformat": 4,
 "nbformat_minor": 2
}
