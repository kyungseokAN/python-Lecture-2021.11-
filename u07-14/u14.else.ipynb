{
 "cells": [
  {
   "cell_type": "code",
   "execution_count": 1,
   "metadata": {},
   "outputs": [],
   "source": [
    "# Unit 14. else"
   ]
  },
  {
   "cell_type": "code",
   "execution_count": 2,
   "metadata": {},
   "outputs": [
    {
     "name": "stdout",
     "output_type": "stream",
     "text": [
      "10이하\n"
     ]
    }
   ],
   "source": [
    "x = 5\n",
    "if x > 10:\n",
    "    print('10보다 크다')\n",
    "else:\n",
    "    print('10이하')"
   ]
  },
  {
   "cell_type": "code",
   "execution_count": 7,
   "metadata": {},
   "outputs": [
    {
     "name": "stdout",
     "output_type": "stream",
     "text": [
      "2는 짝수\n"
     ]
    }
   ],
   "source": [
    "import random\n",
    "x = random.randint(1,100)\n",
    "if x % 2 ==0:\n",
    "    print(f'{x}는 짝수')\n",
    "else:\n",
    "    print(f'{x}는 홀수')"
   ]
  },
  {
   "cell_type": "code",
   "execution_count": 13,
   "metadata": {},
   "outputs": [
    {
     "name": "stdout",
     "output_type": "stream",
     "text": [
      "39는홀수입니다\n"
     ]
    }
   ],
   "source": [
    "import random\n",
    "x = random.randint(1,100)\n",
    "if x % 2 ==0:\n",
    "    result = '짝수'\n",
    "else:\n",
    "    result = '홀수'\n",
    "print(f'{x}는{result}입니다')"
   ]
  },
  {
   "cell_type": "code",
   "execution_count": 21,
   "metadata": {},
   "outputs": [
    {
     "name": "stdout",
     "output_type": "stream",
     "text": [
      "84는 짝수입니다\n"
     ]
    }
   ],
   "source": [
    "# 3항 연산자 \n",
    "x = random.randint(1,100)\n",
    "result = '짝수' if x % 2 ==0 else '홀수'\n",
    "print(f'{x}는 {result}입니다')"
   ]
  },
  {
   "cell_type": "code",
   "execution_count": null,
   "metadata": {},
   "outputs": [],
   "source": []
  },
  {
   "cell_type": "code",
   "execution_count": null,
   "metadata": {},
   "outputs": [],
   "source": []
  }
 ],
 "metadata": {
  "interpreter": {
   "hash": "60e7f993bd80280a292cf727bcf540b52dc52f658ffaee01a928daf77ed7d70f"
  },
  "kernelspec": {
   "display_name": "Python 3.8.8 64-bit ('base': conda)",
   "language": "python",
   "name": "python3"
  },
  "language_info": {
   "codemirror_mode": {
    "name": "ipython",
    "version": 3
   },
   "file_extension": ".py",
   "mimetype": "text/x-python",
   "name": "python",
   "nbconvert_exporter": "python",
   "pygments_lexer": "ipython3",
   "version": "3.8.8"
  },
  "orig_nbformat": 4
 },
 "nbformat": 4,
 "nbformat_minor": 2
}
