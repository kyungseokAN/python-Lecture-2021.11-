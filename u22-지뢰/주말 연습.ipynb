{
 "cells": [
  {
   "cell_type": "code",
   "execution_count": 17,
   "metadata": {},
   "outputs": [
    {
     "name": "stdout",
     "output_type": "stream",
     "text": [
      "13윤년이 아니다\n"
     ]
    }
   ],
   "source": [
    "a = int(input())    \n",
    "\n",
    "if a % 400 ==0:\n",
    "    print(f'{a}윤년')\n",
    "elif a % 100 ==0:\n",
    "    print(f'{a}윤년이 아니다')\n",
    "elif a % 4 ==0:\n",
    "    print(f'{a}윤년')\n",
    "else :\n",
    "    print(f'{a}윤년이 아니다')\n"
   ]
  },
  {
   "cell_type": "code",
   "execution_count": 68,
   "metadata": {},
   "outputs": [
    {
     "name": "stdout",
     "output_type": "stream",
     "text": [
      "당신은 만 30세 입니다\n"
     ]
    }
   ],
   "source": [
    "age_1, age_2, age_3 = map(int, input().split())\n",
    "to_Day_1, to_Day_2, to_Day_3 = 2021, 11, 20\n",
    "age = to_Day_1 - age_1\n",
    "if age_1 > to_Day_1 :\n",
    "    print(' 태어나기 전입니다')\n",
    "elif age_1 == to_Day_1 and age_2 > to_Day_2 :\n",
    "    print(' 태어나기 전입니다')\n",
    "elif age_1 == to_Day_1 and age_2 == to_Day_2 and age_3 > to_Day_3:\n",
    "    print(' 태어나기 전입니다')\n",
    "elif age_1 <= to_Day_1 :\n",
    "    if age_2 > to_Day_2 :\n",
    "         print(f'당신은 만 {age-1}세 입니다')\n",
    "    elif age_2 == to_Day_2 and age_3 > to_Day_3:\n",
    "        print(f'당신은 만 {age-1}세 입니다')\n",
    "    else :\n",
    "        print(f'당신은 만 {age}세 입니다')\n",
    "     \n"
   ]
  },
  {
   "cell_type": "code",
   "execution_count": 6,
   "metadata": {},
   "outputs": [
    {
     "name": "stdout",
     "output_type": "stream",
     "text": [
      "33 483 484\n"
     ]
    }
   ],
   "source": [
    "for a in range(999):\n",
    "    for b in range(999):\n",
    "        for c in range(999):\n",
    "            if a < b < c and a + b > c and a*a + b*b > c*c and a + b + c == 1000: \n",
    "               print(a, b, c)\n",
    "               break\n",
    "        if a < b < c and a + b > c and a*a + b*b > c*c and a + b + c == 1000: \n",
    "            break\n",
    "    if a < b < c and a + b > c and a*a + b*b > c*c and a + b + c == 1000: \n",
    "        break "
   ]
  },
  {
   "cell_type": "code",
   "execution_count": 127,
   "metadata": {},
   "outputs": [
    {
     "name": "stdout",
     "output_type": "stream",
     "text": [
      "        *\n",
      "       ***\n",
      "      *****\n",
      "     *******\n",
      "    *********\n",
      "     *******\n",
      "      *****\n",
      "       ***\n",
      "        *\n"
     ]
    }
   ],
   "source": [
    "# 2-1\n",
    "\n",
    "a = int(input())\n",
    "b = a/2+0.5\n",
    "for i in range(int(b)):\n",
    "    print(' '*(a-(i+2)), '*'*(2*i+1))\n",
    "\n",
    "for j in range(1, int(b)):\n",
    "    print(' '*(a//2+j-1), '*'*(a-2*j))\n",
    "\n"
   ]
  },
  {
   "cell_type": "code",
   "execution_count": 201,
   "metadata": {},
   "outputs": [
    {
     "name": "stdout",
     "output_type": "stream",
     "text": [
      "26100초\n"
     ]
    }
   ],
   "source": [
    "##2-2\n",
    "\n",
    "k = 0\n",
    "a = range(21)\n",
    "b = range(60)\n",
    "for i in a:\n",
    "    for j in b:\n",
    "        if j == 3 or j== 13 or j == 23 or j ==30 or j ==31 or j ==32 or j ==33 or j ==34 or j ==35 or j ==36 or j ==37 or j ==38 or j ==39 or j ==43 or j ==53:\n",
    "            k += 1        \n",
    "c = range(2)\n",
    "k1 = 0\n",
    "for _ in c :\n",
    "    for _ in b:\n",
    "        k1 += 1\n",
    "print(f'{(k+k1)*60}초')\n",
    "\n",
    "\n",
    "\n"
   ]
  },
  {
   "cell_type": "code",
   "execution_count": 202,
   "metadata": {},
   "outputs": [],
   "source": [
    "\n"
   ]
  },
  {
   "cell_type": "code",
   "execution_count": 228,
   "metadata": {},
   "outputs": [
    {
     "name": "stdout",
     "output_type": "stream",
     "text": [
      "2640\n"
     ]
    }
   ],
   "source": [
    "## 2-5\n",
    "\n",
    "i_1 = 0\n",
    "j_1 = 0\n",
    "N = int(input())\n",
    "for i in range(1, N+1):\n",
    "    i_1 += i\n",
    "for j in range(1,N+1):\n",
    "    j_1 += j*j\n",
    "    \n",
    "print(f'{(i_1*i_1)-j_1}')\n"
   ]
  },
  {
   "cell_type": "code",
   "execution_count": 253,
   "metadata": {},
   "outputs": [
    {
     "name": "stdout",
     "output_type": "stream",
     "text": [
      "[6, 28, 496, 8128]\n"
     ]
    }
   ],
   "source": [
    "##2-4\n",
    "\n",
    "N = int(input())\n",
    "y = []\n",
    "for i in range(1, N+1):\n",
    "    x = 0\n",
    "    for j in range(1, i) :\n",
    "        if i%j ==0 :\n",
    "            x += j\n",
    "    if i == x:\n",
    "        y.append(i)\n",
    "print(y)\n"
   ]
  },
  {
   "cell_type": "code",
   "execution_count": 249,
   "metadata": {},
   "outputs": [
    {
     "name": "stdout",
     "output_type": "stream",
     "text": [
      "[6]\n"
     ]
    }
   ],
   "source": []
  },
  {
   "cell_type": "code",
   "execution_count": null,
   "metadata": {},
   "outputs": [],
   "source": []
  }
 ],
 "metadata": {
  "interpreter": {
   "hash": "c81169c30fb96244cfba0db287a0d3fd5325268de070a7a6116eecd4596df902"
  },
  "kernelspec": {
   "display_name": "Python 3.8.8 64-bit ('base': conda)",
   "language": "python",
   "name": "python3"
  },
  "language_info": {
   "codemirror_mode": {
    "name": "ipython",
    "version": 3
   },
   "file_extension": ".py",
   "mimetype": "text/x-python",
   "name": "python",
   "nbconvert_exporter": "python",
   "pygments_lexer": "ipython3",
   "version": "3.8.8"
  },
  "orig_nbformat": 4
 },
 "nbformat": 4,
 "nbformat_minor": 2
}
