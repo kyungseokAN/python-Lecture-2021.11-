{
 "cells": [
  {
   "cell_type": "code",
   "execution_count": 5,
   "metadata": {},
   "outputs": [
    {
     "name": "stdout",
     "output_type": "stream",
     "text": [
      "[['*', '*', '*'], ['.', '.', '.'], ['*', '.', '*']]\n"
     ]
    }
   ],
   "source": [
    "row, col = map(int, input().split())\n",
    "matrix = []\n",
    "matrix.append(list(input()))\n",
    "for i in range(row-1):\n",
    "    matrix.append(list(input()))\n",
    "print(matrix)\n",
    "\n",
    "for k in range(col):\n",
    "    matrix[k].append(0)\n",
    "    matrix[k].insert(0,0)\n",
    "\n",
    "matrix_1 = []\n",
    "for k in range(col+2):\n",
    "    matrix_1.append(0)\n",
    "    matrix_1\n",
    "matrix.append(matrix_1)\n",
    "matrix.insert(0, matrix_1)\n"
   ]
  },
  {
   "cell_type": "code",
   "execution_count": 6,
   "metadata": {},
   "outputs": [
    {
     "data": {
      "text/plain": [
       "[[0, 0, 0, 0, 0],\n",
       " [0, '*', '*', '*', 0],\n",
       " [0, '.', '.', '.', 0],\n",
       " [0, '*', '.', '*', 0],\n",
       " [0, 0, 0, 0, 0]]"
      ]
     },
     "execution_count": 6,
     "metadata": {},
     "output_type": "execute_result"
    }
   ],
   "source": [
    "\n",
    "matrix"
   ]
  },
  {
   "cell_type": "code",
   "execution_count": 11,
   "metadata": {},
   "outputs": [
    {
     "name": "stdout",
     "output_type": "stream",
     "text": [
      "[[0, 0, 0, 0, 0], [0, '*', '*', '*', 0], [0, '.', '.', '.', 0], [0, '*', '.', '*', 0], [0, 0, 0, 0, 0], '123', '1**', '235', '***', '353', '*2*', '***']\n",
      "[[0, 0, 0, 0, 0], [0, '*', '*', '*', 0], [0, '.', '.', '.', 0], [0, '*', '.', '*', 0], [0, 0, 0, 0, 0], '123', '1**', '235', '***', '353', '*2*', '***', '353']\n",
      "[[0, 0, 0, 0, 0], [0, '*', '*', '*', 0], [0, '.', '.', '.', 0], [0, '*', '.', '*', 0], [0, 0, 0, 0, 0], '123', '1**', '235', '***', '353', '*2*', '***', '353', '*2*']\n"
     ]
    }
   ],
   "source": [
    "for i in range(1,row+1):\n",
    "    x = ''\n",
    "    for k in range(1,row+1):\n",
    "        if matrix[i][k] == '*':\n",
    "            x += '*'\n",
    "        else:\n",
    "            count = (matrix[i-1][k-1]=='*') + (matrix[i-1][k]=='*') + (matrix[i-1][k+1]=='*')\\\n",
    "                    + (matrix[i][k-1]=='*') + (matrix[i][k+1]=='*')\\\n",
    "                    + (matrix[i+1][k-1]=='*') + (matrix[i+1][k]=='*') + (matrix[i+1][k+1]=='*')\n",
    "            x += str(count)\n",
    "    matrix.append(x)\n",
    "    print(matrix)"
   ]
  },
  {
   "cell_type": "code",
   "execution_count": 28,
   "metadata": {},
   "outputs": [
    {
     "data": {
      "text/plain": [
       "[1024, 4096, 8192, 16384, 32768, 65536, 131072, 262144, 1048576]"
      ]
     },
     "execution_count": 28,
     "metadata": {},
     "output_type": "execute_result"
    }
   ],
   "source": [
    "# u22문제\n",
    "a,b = map(int, input().split())\n",
    "sq_list = [2 ** i for i in range(a, b+1)]\n",
    "del sq_list[1]\n",
    "del sq_list[-2]\n",
    "sq_list"
   ]
  },
  {
   "cell_type": "code",
   "execution_count": 29,
   "metadata": {},
   "outputs": [
    {
     "name": "stdout",
     "output_type": "stream",
     "text": [
      "* . . . . . . . \n",
      ". * . . . . . * \n",
      "* . . * * . . . \n",
      "* * . . . . * . \n",
      ". * * . * . . * \n",
      "* * * * . . . * \n",
      ". * . * * * . . \n",
      "* . . * . . . . \n"
     ]
    }
   ],
   "source": [
    "#지옥찾기\n",
    "import random\n",
    "N = 8\n",
    "mines = []\n",
    "for _ in range(N):    #_ 파이썬에서 in 앞에 _를 넣어서 _를 이 for문에만 사용하고 사용안할때\n",
    "    row = ''\n",
    "    for _ in range(N):\n",
    "        if random.random() > 0.7:\n",
    "            row += '*'\n",
    "        else :\n",
    "            row += '.'\n",
    "    mines.append(row)\n",
    "for row in mines:\n",
    "    for element in row:\n",
    "        print(element, end=' ')\n",
    "    print()\n"
   ]
  },
  {
   "cell_type": "code",
   "execution_count": 41,
   "metadata": {},
   "outputs": [],
   "source": [
    "def print_mines(mat):\n",
    "    for row in mat:\n",
    "        for element in row:\n",
    "            print(element, end=' ')\n",
    "        print( )"
   ]
  },
  {
   "cell_type": "code",
   "execution_count": 42,
   "metadata": {},
   "outputs": [
    {
     "name": "stdout",
     "output_type": "stream",
     "text": [
      "* . . . . . . . \n",
      ". * . . . . . * \n",
      "* . . * * . . . \n",
      "* * . . . . * . \n",
      ". * * . * . . * \n",
      "* * * * . . . * \n",
      ". * . * * * . . \n",
      "* . . * . . . . \n"
     ]
    }
   ],
   "source": [
    "print_mines(mines)"
   ]
  },
  {
   "cell_type": "code",
   "execution_count": 34,
   "metadata": {},
   "outputs": [],
   "source": [
    "pad_mines = []\n",
    "pad_mines.append('.'*(N+2))\n",
    "for row in mines:\n",
    "    line = '.'\n",
    "    for element in row:\n",
    "        line += element\n",
    "    line +='.'\n",
    "    pad_mines.append(line)\n",
    "pad_mines.append('.'*(N+2))"
   ]
  },
  {
   "cell_type": "code",
   "execution_count": 43,
   "metadata": {},
   "outputs": [
    {
     "name": "stdout",
     "output_type": "stream",
     "text": [
      ". . . . . . . . . . \n",
      ". * . . . . . . . . \n",
      ". . * . . . . . * . \n",
      ". * . . * * . . . . \n",
      ". * * . . . . * . . \n",
      ". . * * . * . . * . \n",
      ". * * * * . . . * . \n",
      ". . * . * * * . . . \n",
      ". * . . * . . . . . \n",
      ". . . . . . . . . . \n"
     ]
    }
   ],
   "source": [
    "print_mines(pad_mines)"
   ]
  },
  {
   "cell_type": "code",
   "execution_count": 48,
   "metadata": {},
   "outputs": [
    {
     "name": "stdout",
     "output_type": "stream",
     "text": [
      "* 2 1 0 0 0 1 1 \n",
      "3 * 2 2 2 1 1 * \n",
      "* 4 3 * * 2 2 2 \n",
      "* * 4 4 3 3 * 2 \n",
      "5 * * 4 * 2 3 * \n",
      "* * * * 5 3 3 * \n",
      "4 * 6 * * * 2 1 \n",
      "* 2 3 * 4 2 1 0 \n"
     ]
    }
   ],
   "source": [
    "final_mines = []\n",
    "for i in range(1, N+1):\n",
    "    row = ''\n",
    "    for k in range(1,N+1):\n",
    "        if pad_mines[i][k] == '*':\n",
    "            row += '*'\n",
    "        else:\n",
    "            count = (pad_mines[i-1][k-1]=='*') + (pad_mines[i-1][k]=='*') + (pad_mines[i-1][k+1]=='*')\\\n",
    "                    + (pad_mines[i][k-1]=='*') + (pad_mines[i][k+1]=='*')\\\n",
    "                    + (pad_mines[i+1][k-1]=='*') + (pad_mines[i+1][k]=='*') + (pad_mines[i+1][k+1]=='*')\n",
    "            row += str(count)\n",
    "    final_mines.append(row)\n",
    "print_mines(final_mines)   \n",
    "\n"
   ]
  },
  {
   "cell_type": "code",
   "execution_count": null,
   "metadata": {},
   "outputs": [],
   "source": [
    "row, col = map(int, input().split())\n",
    "matrix = []\n",
    "for i in range(row):\n",
    "    matrix.append(list(input()))\n",
    "print()\n",
    "for i in range(row):\n",
    "    for j in range(col):\n",
    "        cnt = 0\n",
    "        if matrix[i][j] == \".\":\n",
    "            if i != 0 and j != 0: \n",
    "                if matrix[i-1][j-1] == \"*\": cnt += 1\n",
    "            if i != row-1 and j != col-1:\n",
    "                if matrix[i+1][j+1] == \"*\": cnt += 1\n",
    "            if i != 0:\n",
    "                if matrix[i-1][j] == \"*\": cnt += 1\n",
    "            if i != 0 and j != col-1:\n",
    "                if matrix[i-1][j+1] == \"*\": cnt += 1\n",
    "            if j != 0:\n",
    "                if matrix[i][j-1] == \"*\": cnt += 1\n",
    "            if i != row - 1 and j != 0:\n",
    "                if matrix[i+1][j-1] == \"*\": cnt += 1\n",
    "            if j != col -1:\n",
    "                if matrix[i][j+1] == \"*\": cnt += 1\n",
    "            if i != row -1:\n",
    "                if matrix[i+1][j] ==\"*\": cnt += 1\n",
    "            matrix[i][j] = cnt\n",
    "            print(matrix[i][j], end=\"\")\n",
    "        else:\n",
    "            print(matrix[i][j], end=\"\")\n",
    "    print()\n"
   ]
  }
 ],
 "metadata": {
  "interpreter": {
   "hash": "60e7f993bd80280a292cf727bcf540b52dc52f658ffaee01a928daf77ed7d70f"
  },
  "kernelspec": {
   "display_name": "Python 3.8.8 64-bit ('base': conda)",
   "language": "python",
   "name": "python3"
  },
  "language_info": {
   "codemirror_mode": {
    "name": "ipython",
    "version": 3
   },
   "file_extension": ".py",
   "mimetype": "text/x-python",
   "name": "python",
   "nbconvert_exporter": "python",
   "pygments_lexer": "ipython3",
   "version": "3.8.8"
  },
  "orig_nbformat": 4
 },
 "nbformat": 4,
 "nbformat_minor": 2
}
