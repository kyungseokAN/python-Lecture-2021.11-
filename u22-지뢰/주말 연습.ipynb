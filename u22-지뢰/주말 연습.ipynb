{
 "cells": [
  {
   "cell_type": "code",
   "execution_count": 17,
   "metadata": {},
   "outputs": [
    {
     "name": "stdout",
     "output_type": "stream",
     "text": [
      "13윤년이 아니다\n"
     ]
    }
   ],
   "source": [
    "a = int(input())    \n",
    "\n",
    "if a % 400 ==0:\n",
    "    print(f'{a}윤년')\n",
    "elif a % 100 ==0:\n",
    "    print(f'{a}윤년이 아니다')\n",
    "elif a % 4 ==0:\n",
    "    print(f'{a}윤년')\n",
    "else :\n",
    "    print(f'{a}윤년이 아니다')\n"
   ]
  },
  {
   "cell_type": "code",
   "execution_count": 4,
   "metadata": {},
   "outputs": [
    {
     "name": "stdout",
     "output_type": "stream",
     "text": [
      "2021:윤년이 아님\n"
     ]
    }
   ],
   "source": [
    "year = int(input())\n",
    "if year % 400 == 0:\n",
    "    print(f'{year}:윤년')\n",
    "elif year % 100 == 0:\n",
    "    print(f'{year}:윤년이 아님')\n",
    "elif year % 4 == 0:\n",
    "    print(f'{year}:윤년')\n",
    "else:\n",
    "    print(f'{year}:윤년이 아님')"
   ]
  },
  {
   "cell_type": "code",
   "execution_count": 68,
   "metadata": {},
   "outputs": [
    {
     "name": "stdout",
     "output_type": "stream",
     "text": [
      "당신은 만 30세 입니다\n"
     ]
    }
   ],
   "source": [
    "age_1, age_2, age_3 = map(int, input().split())\n",
    "to_Day_1, to_Day_2, to_Day_3 = 2021, 11, 20\n",
    "age = to_Day_1 - age_1\n",
    "if age_1 > to_Day_1 :\n",
    "    print(' 태어나기 전입니다')\n",
    "elif age_1 == to_Day_1 and age_2 > to_Day_2 :\n",
    "    print(' 태어나기 전입니다')\n",
    "elif age_1 == to_Day_1 and age_2 == to_Day_2 and age_3 > to_Day_3:\n",
    "    print(' 태어나기 전입니다')\n",
    "elif age_1 <= to_Day_1 :\n",
    "    if age_2 > to_Day_2 :\n",
    "         print(f'당신은 만 {age-1}세 입니다')\n",
    "    elif age_2 == to_Day_2 and age_3 > to_Day_3:\n",
    "        print(f'당신은 만 {age-1}세 입니다')\n",
    "    else :\n",
    "        print(f'당신은 만 {age}세 입니다')\n",
    "     \n"
   ]
  },
  {
   "cell_type": "code",
   "execution_count": 6,
   "metadata": {},
   "outputs": [
    {
     "name": "stdout",
     "output_type": "stream",
     "text": [
      "생년월일이 1991-3-19인 사람의 만 나이는30\n"
     ]
    }
   ],
   "source": [
    "from datetime import date\n",
    "today = date.today()\n",
    "\n",
    "year, month, day = map(int, input().split())\n",
    "\n",
    "if month > today.month:\n",
    "    age = today.year-year -1\n",
    "elif month <today.month:\n",
    "    age = today.year-year\n",
    "else:\n",
    "    if day > today.day:\n",
    "        age = today.year - year -1   \n",
    "    else:\n",
    "        age = today.year - year\n",
    "print(f'생년월일이 {year}-{month}-{day}인 사람의 만 나이는{age}')"
   ]
  },
  {
   "cell_type": "code",
   "execution_count": 15,
   "metadata": {},
   "outputs": [
    {
     "name": "stdout",
     "output_type": "stream",
     "text": [
      "200 375 425\n"
     ]
    }
   ],
   "source": [
    "for a in range(1000):\n",
    "    for b in range(1000):\n",
    "        for c in range(1000):\n",
    "            if a < b < c and a + b > c and a*a + b*b == c*c and a + b + c == 1000: \n",
    "               print(a, b, c)\n",
    "               break\n",
    "        if a < b < c and a + b > c and a*a + b*b == c*c and a + b + c == 1000: \n",
    "            break\n",
    "    if a < b < c and a + b > c and a*a + b*b == c*c and a + b + c == 1000: \n",
    "        break "
   ]
  },
  {
   "cell_type": "code",
   "execution_count": 2,
   "metadata": {},
   "outputs": [
    {
     "name": "stdout",
     "output_type": "stream",
     "text": [
      "200 375 425\n"
     ]
    }
   ],
   "source": [
    "for a in range(1000):\n",
    "    for b in range(1000):\n",
    "        c = 1000- a - b\n",
    "        if a < b < c and a + b > c and a*a + b*b == c*c and a + b + c == 1000: \n",
    "            break\n",
    "    if a < b < c and a + b > c and a*a + b*b == c*c and a + b + c == 1000: \n",
    "        break\n",
    "print(a,b,c)"
   ]
  },
  {
   "cell_type": "code",
   "execution_count": 16,
   "metadata": {},
   "outputs": [
    {
     "name": "stdout",
     "output_type": "stream",
     "text": [
      "200 375 425\n"
     ]
    }
   ],
   "source": [
    "\n",
    "for a in range(1, 1001):\n",
    "    for b in range(a+1, 1001):\n",
    "        c = 1000- a - b\n",
    "        if c*c == a*a + b*b:\n",
    "            print(a,b,c)\n",
    "            break"
   ]
  },
  {
   "cell_type": "code",
   "execution_count": 12,
   "metadata": {},
   "outputs": [
    {
     "name": "stdout",
     "output_type": "stream",
     "text": [
      "200 375 425\n"
     ]
    }
   ],
   "source": [
    "flag = False\n",
    "for a in range(1, 333):\n",
    "    for b in range(a+1, 500):\n",
    "        c = 1000- a - b\n",
    "        if c*c == a*a + b*b:\n",
    "            print(a,b,c)\n",
    "            flag = True\n",
    "            break\n",
    "    if flag:\n",
    "        break"
   ]
  },
  {
   "cell_type": "code",
   "execution_count": 3,
   "metadata": {},
   "outputs": [
    {
     "name": "stdout",
     "output_type": "stream",
     "text": [
      "    *\n",
      "   ***\n",
      "  *****\n",
      "   ***\n",
      "    *\n"
     ]
    }
   ],
   "source": [
    "# 2-1\n",
    "a = int(input())\n",
    "b = a/2+0.5\n",
    "for i in range(int(b)):\n",
    "    print(' '*(a-(i+2)), '*'*(2*i+1))\n",
    "for j in range(1, int(b)):\n",
    "    print(' '*(a//2+j-1), '*'*(a-2*j))"
   ]
  },
  {
   "cell_type": "code",
   "execution_count": 22,
   "metadata": {},
   "outputs": [
    {
     "name": "stdout",
     "output_type": "stream",
     "text": [
      "    *    \n",
      "   ***   \n",
      "  *****  \n",
      " ******* \n",
      "*********\n",
      " ******* \n",
      "  *****  \n",
      "   ***   \n",
      "    *    \n"
     ]
    }
   ],
   "source": [
    "n = int(input())\n",
    "for i in range(n):\n",
    "    if i <= n // 2:\n",
    "        star = '*' * (2*i+1)\n",
    "    else:\n",
    "        star = '*' * (2*(n-i)-1)\n",
    "    print(f'{star:^{n}s}')\n",
    "\n"
   ]
  },
  {
   "cell_type": "code",
   "execution_count": 41,
   "metadata": {},
   "outputs": [
    {
     "name": "stdout",
     "output_type": "stream",
     "text": [
      "0:192개,1:301개,2:300개,3:300개,4:300개,5:300개,6:300개,7:300개,8:300개,9:300개\n"
     ]
    }
   ],
   "source": [
    "##2-3\n",
    "i0, i1, i2, i3, i4, i5, i6, i7, i8, i9 =0, 0, 0, 0, 0, 0, 0, 0, 0, 0\n",
    "for s in range(1, 1001):\n",
    "    i0 += str(s).count(\"0\")\n",
    "    i1 += str(s).count(\"1\")\n",
    "    i2 += str(s).count(\"2\")\n",
    "    i3 += str(s).count(\"3\")\n",
    "    i4 += str(s).count(\"4\")\n",
    "    i5 += str(s).count(\"5\")\n",
    "    i6 += str(s).count(\"6\")\n",
    "    i7 += str(s).count(\"7\")\n",
    "    i8 += str(s).count(\"8\")\n",
    "    i9 += str(s).count(\"9\")\n",
    "print(f'0:{i0}개,1:{i1}개,2:{i2}개,3:{i3}개,4:{i4}개,5:{i5}개,6:{i6}개,7:{i7}개,8:{i8}개,9:{i9}개')"
   ]
  },
  {
   "cell_type": "code",
   "execution_count": 38,
   "metadata": {},
   "outputs": [
    {
     "data": {
      "text/plain": [
       "{0: 9, 1: 19, 2: 19, 3: 19, 4: 19, 5: 19, 6: 19, 7: 19, 8: 19, 9: 19}"
      ]
     },
     "execution_count": 38,
     "metadata": {},
     "output_type": "execute_result"
    }
   ],
   "source": [
    "# 두자리수(10~99)\n",
    "number_count = {i:0 for i in range(10)}\n",
    "for n in range(10,100):\n",
    "    ten, one = n//10, n%10\n",
    "    number_count[ten] += 1\n",
    "    number_count[one] += 1\n",
    "number_count"
   ]
  },
  {
   "cell_type": "code",
   "execution_count": 42,
   "metadata": {},
   "outputs": [
    {
     "data": {
      "text/plain": [
       "{0: 192,\n",
       " 1: 301,\n",
       " 2: 300,\n",
       " 3: 300,\n",
       " 4: 300,\n",
       " 5: 300,\n",
       " 6: 300,\n",
       " 7: 300,\n",
       " 8: 300,\n",
       " 9: 300}"
      ]
     },
     "execution_count": 42,
     "metadata": {},
     "output_type": "execute_result"
    }
   ],
   "source": [
    "# 문자로 해결\n",
    "number_count =  {i:0 for i in range(10)}\n",
    "number_str =''\n",
    "for i in range(1, 1001):\n",
    "    number_str += str(i)\n",
    "for i in range(10):\n",
    "    number_count[i] = number_str.count(str(i))\n",
    "number_count"
   ]
  },
  {
   "cell_type": "code",
   "execution_count": 17,
   "metadata": {},
   "outputs": [
    {
     "name": "stdout",
     "output_type": "stream",
     "text": [
      "29700초\n"
     ]
    }
   ],
   "source": [
    "##2-2\n",
    "\n",
    "k = 0\n",
    "a = range(21)\n",
    "b = range(60)\n",
    "for i in a:\n",
    "    for j in b:\n",
    "        if j == 3 or j== 13 or j == 23 or j ==30 or j ==31 or j ==32 or j ==33 or j ==34 or j ==35 or j ==36 or j ==37 or j ==38 or j ==39 or j ==43 or j ==53:\n",
    "            k += 1        \n",
    "c = range(3)\n",
    "k1 = 0\n",
    "for _ in c :\n",
    "    for _ in b:\n",
    "        k1 += 1\n",
    "print(f'{(k+k1)*60}초')\n",
    "\n",
    "\n",
    "\n"
   ]
  },
  {
   "cell_type": "code",
   "execution_count": 18,
   "metadata": {},
   "outputs": [
    {
     "name": "stdout",
     "output_type": "stream",
     "text": [
      "29700\n"
     ]
    }
   ],
   "source": [
    "x = 0\n",
    "for i in range(24):\n",
    "    for j in range(60):\n",
    "        if '3' in str(i) or '3' in str(j):\n",
    "            x += 60\n",
    "print(x) \n"
   ]
  },
  {
   "cell_type": "code",
   "execution_count": 23,
   "metadata": {},
   "outputs": [
    {
     "name": "stdout",
     "output_type": "stream",
     "text": [
      "29700\n"
     ]
    }
   ],
   "source": [
    "total_seconds = 0\n",
    "for hour in range(24):\n",
    "    for minute in range(60):\n",
    "        display = f'{hour:02d}:{minute:02d}'\n",
    "        if '3' in display:\n",
    "            total_seconds +=60\n",
    "print(total_seconds)"
   ]
  },
  {
   "cell_type": "code",
   "execution_count": 228,
   "metadata": {},
   "outputs": [
    {
     "name": "stdout",
     "output_type": "stream",
     "text": [
      "2640\n"
     ]
    }
   ],
   "source": [
    "## 2-5\n",
    "\n",
    "i_1 = 0\n",
    "j_1 = 0\n",
    "N = int(input())\n",
    "for i in range(1, N+1):\n",
    "    i_1 += i\n",
    "for j in range(1,N+1):\n",
    "    j_1 += j*j\n",
    "    \n",
    "print(f'{(i_1*i_1)-j_1}')\n"
   ]
  },
  {
   "cell_type": "code",
   "execution_count": 58,
   "metadata": {},
   "outputs": [
    {
     "name": "stdout",
     "output_type": "stream",
     "text": [
      "합의제곱-제곱의 합 = 2640\n"
     ]
    }
   ],
   "source": [
    "N =int(input())\n",
    "sum_of_square = 0\n",
    "sum_of_plain = 0\n",
    "for i in range(1,N+1):\n",
    "    sum_of_square += i\n",
    "    sum_of_plain += i*i\n",
    "print(f'합의제곱-제곱의 합 = {sum_of_square**2 - sum_of_plain}')"
   ]
  },
  {
   "cell_type": "code",
   "execution_count": null,
   "metadata": {},
   "outputs": [],
   "source": [
    "\n",
    "    "
   ]
  },
  {
   "cell_type": "code",
   "execution_count": 253,
   "metadata": {},
   "outputs": [
    {
     "name": "stdout",
     "output_type": "stream",
     "text": [
      "[6, 28, 496, 8128]\n"
     ]
    }
   ],
   "source": [
    "##2-4\n",
    "\n",
    "N = int(input())\n",
    "y = []\n",
    "for i in range(1, N+1):\n",
    "    x = 0\n",
    "    for j in range(1, i) :\n",
    "        if i%j ==0 :\n",
    "            x += j\n",
    "    if i == x:\n",
    "        y.append(i)\n",
    "print(y)\n"
   ]
  },
  {
   "cell_type": "code",
   "execution_count": 52,
   "metadata": {},
   "outputs": [
    {
     "name": "stdout",
     "output_type": "stream",
     "text": [
      "6\n",
      "28\n",
      "496\n",
      "8128\n"
     ]
    }
   ],
   "source": [
    "N =int(input())\n",
    "for i in range(2, N+1):\n",
    "    sum_of_divisor = 0\n",
    "    for k in range(1, i):\n",
    "        if i % k ==0:\n",
    "            sum_of_divisor += k\n",
    "    if sum_of_divisor == i:\n",
    "        print(sum_of_divisor)"
   ]
  },
  {
   "cell_type": "code",
   "execution_count": 108,
   "metadata": {},
   "outputs": [],
   "source": [
    "def is_perfect(n):\n",
    "    sum_of_divisor = 0\n",
    "    for k in range(1, n):\n",
    "        if n % k ==0:\n",
    "            sum_of_divisor += k\n",
    "    if sum_of_divisor == n:\n",
    "        return True\n",
    "    return False\n",
    "\n",
    "   "
   ]
  },
  {
   "cell_type": "code",
   "execution_count": 147,
   "metadata": {},
   "outputs": [
    {
     "name": "stdout",
     "output_type": "stream",
     "text": [
      "28 True\n"
     ]
    }
   ],
   "source": [
    "N = int(input())\n",
    "for i in range(N,N+1):\n",
    "    if is_perfect(i):\n",
    "        print(i,'True')\n",
    "    else:\n",
    "        print(N,False)   \n",
    "     "
   ]
  },
  {
   "cell_type": "code",
   "execution_count": 114,
   "metadata": {},
   "outputs": [],
   "source": [
    "def is_perfect(n):\n",
    "    sum_of_divisor = 0\n",
    "    for i in range(1, n):\n",
    "        if n % i ==0:\n",
    "            sum_of_divisor += i\n",
    "    return sum_of_divisor == n"
   ]
  },
  {
   "cell_type": "code",
   "execution_count": 135,
   "metadata": {},
   "outputs": [
    {
     "name": "stdout",
     "output_type": "stream",
     "text": [
      "28 True\n"
     ]
    }
   ],
   "source": [
    "N = int(input())\n",
    "for i in range(N,N+1):\n",
    "    if is_perfect(i):\n",
    "        print(i,'True')\n",
    "    else:\n",
    "        print(N,'False') "
   ]
  },
  {
   "cell_type": "code",
   "execution_count": null,
   "metadata": {},
   "outputs": [],
   "source": []
  }
 ],
 "metadata": {
  "interpreter": {
   "hash": "c81169c30fb96244cfba0db287a0d3fd5325268de070a7a6116eecd4596df902"
  },
  "kernelspec": {
   "display_name": "Python 3.8.8 64-bit ('base': conda)",
   "language": "python",
   "name": "python3"
  },
  "language_info": {
   "codemirror_mode": {
    "name": "ipython",
    "version": 3
   },
   "file_extension": ".py",
   "mimetype": "text/x-python",
   "name": "python",
   "nbconvert_exporter": "python",
   "pygments_lexer": "ipython3",
   "version": "3.8.8"
  },
  "orig_nbformat": 4
 },
 "nbformat": 4,
 "nbformat_minor": 2
}
